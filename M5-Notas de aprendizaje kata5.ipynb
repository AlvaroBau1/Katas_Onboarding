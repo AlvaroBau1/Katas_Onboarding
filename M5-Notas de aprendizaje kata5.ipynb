{
 "cells": [
  {
   "cell_type": "markdown",
   "metadata": {},
   "source": [
    "# Intentando mejorar los problemas propuestos"
   ]
  },
  {
   "cell_type": "code",
   "execution_count": 9,
   "metadata": {},
   "outputs": [
    {
     "name": "stdout",
     "output_type": "stream",
     "text": [
      "17 min 22 seg \n"
     ]
    }
   ],
   "source": [
    "seconds = 1042\n",
    "display_minutes = seconds // 60\n",
    "display_seconds = seconds % 60\n",
    "\n",
    "print(str(display_minutes) + \" min \" + str(display_seconds) + \" seg \")"
   ]
  }
 ],
 "metadata": {
  "interpreter": {
   "hash": "e19707eb9e9331e76c652208aee15ca1c6fd93fb038058600cfb94231c800a3a"
  },
  "kernelspec": {
   "display_name": "Python 3.9.10 64-bit",
   "language": "python",
   "name": "python3"
  },
  "language_info": {
   "codemirror_mode": {
    "name": "ipython",
    "version": 3
   },
   "file_extension": ".py",
   "mimetype": "text/x-python",
   "name": "python",
   "nbconvert_exporter": "python",
   "pygments_lexer": "ipython3",
   "version": "3.9.10"
  },
  "orig_nbformat": 4
 },
 "nbformat": 4,
 "nbformat_minor": 2
}
